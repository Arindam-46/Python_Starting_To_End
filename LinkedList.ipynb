{
 "cells": [
  {
   "cell_type": "code",
   "execution_count": 1,
   "id": "f7ba7a71-c3f0-4b58-9eec-66d0fcf9f7db",
   "metadata": {},
   "outputs": [],
   "source": [
    "class Node:\n",
    "    def __init__(self,value):\n",
    "        self.data = value\n",
    "        self.next = None"
   ]
  },
  {
   "cell_type": "code",
   "execution_count": 2,
   "id": "cb707c66-96ae-4226-8751-ad8489d3fca7",
   "metadata": {},
   "outputs": [],
   "source": [
    "a = Node(1)\n",
    "b = Node(2)\n",
    "c = Node(3)"
   ]
  },
  {
   "cell_type": "code",
   "execution_count": 3,
   "id": "1e886aa2-638c-4f74-8453-851c56bf8efd",
   "metadata": {},
   "outputs": [],
   "source": [
    "a.next = b\n",
    "b.next = c"
   ]
  },
  {
   "cell_type": "code",
   "execution_count": 4,
   "id": "6d9b5acb-8fa4-4fc4-88e9-0aac6e1e1971",
   "metadata": {},
   "outputs": [
    {
     "data": {
      "text/plain": [
       "136651612383280"
      ]
     },
     "execution_count": 4,
     "metadata": {},
     "output_type": "execute_result"
    }
   ],
   "source": [
    "id(b)"
   ]
  },
  {
   "cell_type": "code",
   "execution_count": 5,
   "id": "7e38e44b-dfdd-4131-8737-818e97982f93",
   "metadata": {},
   "outputs": [
    {
     "name": "stdout",
     "output_type": "stream",
     "text": [
      "<__main__.Node object at 0x7c48aed06e60>\n"
     ]
    }
   ],
   "source": [
    "print(a)"
   ]
  },
  {
   "cell_type": "code",
   "execution_count": 6,
   "id": "ed1d0e74-b627-4c45-9bd2-08588bbb5bc9",
   "metadata": {},
   "outputs": [
    {
     "name": "stdout",
     "output_type": "stream",
     "text": [
      "1\n"
     ]
    }
   ],
   "source": [
    "print(a.data)"
   ]
  },
  {
   "cell_type": "code",
   "execution_count": 7,
   "id": "0e57aaeb-94cd-42d3-a990-e2c18b1ca2b6",
   "metadata": {},
   "outputs": [
    {
     "name": "stdout",
     "output_type": "stream",
     "text": [
      "<__main__.Node object at 0x7c48aed06830>\n"
     ]
    }
   ],
   "source": [
    "print(a.next)"
   ]
  },
  {
   "cell_type": "code",
   "execution_count": 8,
   "id": "9cfd8317-9010-46df-b616-ad69f85def32",
   "metadata": {},
   "outputs": [],
   "source": [
    "class Node:\n",
    "    def __init__(self,value):\n",
    "        self.data = value\n",
    "        self.next = None"
   ]
  },
  {
   "cell_type": "code",
   "execution_count": 71,
   "id": "32de0797-5ece-40ea-bf98-c3ed02a73070",
   "metadata": {},
   "outputs": [],
   "source": [
    "#0 node = empty linkedlist -> head = none\n",
    "class LinkedList:\n",
    "    \n",
    "    def __init__(self):\n",
    "        self.head = None\n",
    "        self.n = 0 #count of node\n",
    "        \n",
    "    def __len__(self):\n",
    "        return self.n \n",
    "\n",
    "    def insert_head(self,value):\n",
    "        #new node\n",
    "        new_node = Node(value)\n",
    "        #create connection\n",
    "        new_node.next = self.head\n",
    "        #reassign head\n",
    "        self.head = new_node\n",
    "        #increment n\n",
    "        self.n = self.n+1\n",
    "\n",
    "    def __str__(self):\n",
    "        curr = self.head\n",
    "        result = ''\n",
    "        while curr != None:\n",
    "            result = result + str(curr.data)+'->'\n",
    "            curr = curr.next\n",
    "        return result[:-2]\n",
    "\n",
    "    def append(self,value):\n",
    "        new_node = Node(value)\n",
    "        \n",
    "        if self.head == None :\n",
    "            self.head = new_node\n",
    "            self.n = self.n+1\n",
    "            return\n",
    "            \n",
    "        curr = self.head \n",
    "        while curr.next != None:\n",
    "            curr = curr.next\n",
    "            \n",
    "        curr.next = new_node\n",
    "        new_node.next = None\n",
    "        self.n = self.n+1\n",
    "\n",
    "    def insert_after(self,after,value):\n",
    "        new_node = Node(value)\n",
    "        curr = self.head \n",
    "        while curr != None:\n",
    "            if curr.data == after:\n",
    "                break\n",
    "            curr = curr.next\n",
    "        #case 1 breake $item found\n",
    "        if curr != None:\n",
    "            new_node.next = curr.next\n",
    "            curr.next = new_node\n",
    "            self.n = self.n+1\n",
    "        #case2 $item not found curr = None\n",
    "        else:\n",
    "            return 'Item not found'\n",
    "\n",
    "    def clear(self):\n",
    "        self.head = None\n",
    "        self.n = 0\n",
    "\n",
    "    def delete_head(self):\n",
    "        if self.head == None:\n",
    "            return 'Empty LinkedList'\n",
    "        self.head = self.head.next\n",
    "        self.n = self.n-1\n",
    "\n",
    "    def pop(self):\n",
    "        if self.head == None:\n",
    "            return'Empty LinkedList'\n",
    "        if self.head.next == None:\n",
    "            return self.delete_head()\n",
    "        curr = self.head\n",
    "        while curr.next.next != None:\n",
    "            curr = curr.next\n",
    "        curr.next = None\n",
    "        self.n = self.n\n",
    "\n",
    "    def remove(self,value):\n",
    "        if self.head == None:\n",
    "            return 'Empty LinkedList'\n",
    "            \n",
    "        if self.head.data == value:\n",
    "            return self.delete_head()\n",
    "            \n",
    "        curr = self.head\n",
    "        while curr.next != None:\n",
    "            #case1  item milgaya to uska samne ka node ka address\n",
    "            if curr.next.data == value:\n",
    "                break\n",
    "\n",
    "            if curr == None:\n",
    "                return 'Item not Found'\n",
    "            curr = curr.next\n",
    "        #case2 item nhi mila\n",
    "        if curr.next == None:\n",
    "            return 'Item not Found' \n",
    "        #last item is value then pop\n",
    "        if curr.next == None:\n",
    "            return self.pop\n",
    " \n",
    "        else:\n",
    "            curr.next = curr.next.next\n",
    "        "
   ]
  },
  {
   "cell_type": "code",
   "execution_count": 72,
   "id": "95e1817d-3215-4e62-8dec-60e8455f2d84",
   "metadata": {},
   "outputs": [],
   "source": [
    "L = LinkedList()"
   ]
  },
  {
   "cell_type": "code",
   "execution_count": 73,
   "id": "bbcf35e4-60f1-484b-938a-30f00c339e81",
   "metadata": {},
   "outputs": [],
   "source": [
    "L.append(1)\n",
    "L.append(2)\n",
    "L.append(3)\n",
    "L.append(4)"
   ]
  },
  {
   "cell_type": "code",
   "execution_count": 74,
   "id": "a5ad4f9a-1068-48fd-a900-77f943f3eb80",
   "metadata": {},
   "outputs": [
    {
     "name": "stdout",
     "output_type": "stream",
     "text": [
      "1->2->3->4\n"
     ]
    }
   ],
   "source": [
    "print(L)"
   ]
  },
  {
   "cell_type": "code",
   "execution_count": 81,
   "id": "886fe252-f0a4-4be2-9ba9-3979e62f6268",
   "metadata": {},
   "outputs": [],
   "source": [
    "L.remove(1)"
   ]
  },
  {
   "cell_type": "code",
   "execution_count": 82,
   "id": "292d39f2-6de7-4c5e-b04c-4df37d313737",
   "metadata": {},
   "outputs": [
    {
     "name": "stdout",
     "output_type": "stream",
     "text": [
      "3\n"
     ]
    }
   ],
   "source": [
    "print(L)"
   ]
  },
  {
   "cell_type": "code",
   "execution_count": 38,
   "id": "c85a0487-6dd8-4da3-a014-707ffd59dedd",
   "metadata": {},
   "outputs": [
    {
     "data": {
      "text/plain": [
       "4"
      ]
     },
     "execution_count": 38,
     "metadata": {},
     "output_type": "execute_result"
    }
   ],
   "source": [
    "len(L)  "
   ]
  },
  {
   "cell_type": "code",
   "execution_count": 234,
   "id": "4b0c760f-83fd-49fb-8c7b-e1dbdc16f397",
   "metadata": {},
   "outputs": [],
   "source": [
    "L.append(5)"
   ]
  },
  {
   "cell_type": "code",
   "execution_count": 239,
   "id": "c9b2d595-0dfb-42ca-a5b4-de5345732c33",
   "metadata": {},
   "outputs": [
    {
     "name": "stdout",
     "output_type": "stream",
     "text": [
      "1->2->3->4\n"
     ]
    }
   ],
   "source": [
    "print(L)"
   ]
  },
  {
   "cell_type": "code",
   "execution_count": 210,
   "id": "f416612d-ca5e-4e4b-adc6-95d698b45c19",
   "metadata": {},
   "outputs": [],
   "source": [
    "L.insert_after(4,100)"
   ]
  },
  {
   "cell_type": "code",
   "execution_count": 180,
   "id": "da60ce24-fcc2-435a-8d2f-3af41aabcc95",
   "metadata": {},
   "outputs": [],
   "source": [
    "L.clear()"
   ]
  },
  {
   "cell_type": "code",
   "execution_count": 226,
   "id": "93769e66-5fca-4d9d-b92c-3dbcba9498f4",
   "metadata": {},
   "outputs": [
    {
     "data": {
      "text/plain": [
       "'Empty List'"
      ]
     },
     "execution_count": 226,
     "metadata": {},
     "output_type": "execute_result"
    }
   ],
   "source": [
    "L.delete_head()"
   ]
  },
  {
   "cell_type": "code",
   "execution_count": 263,
   "id": "f9f79d1a-5400-4706-a5a8-528a4d200280",
   "metadata": {},
   "outputs": [
    {
     "data": {
      "text/plain": [
       "'Empty LinkedList'"
      ]
     },
     "execution_count": 263,
     "metadata": {},
     "output_type": "execute_result"
    }
   ],
   "source": [
    "L.pop()"
   ]
  },
  {
   "cell_type": "code",
   "execution_count": null,
   "id": "e0c67702-0b04-43a9-9d74-21c15cec5881",
   "metadata": {},
   "outputs": [],
   "source": []
  },
  {
   "cell_type": "code",
   "execution_count": null,
   "id": "d6666f0f-fb29-478c-aa62-70693d935ffe",
   "metadata": {},
   "outputs": [],
   "source": []
  }
 ],
 "metadata": {
  "kernelspec": {
   "display_name": "Python 3 (ipykernel)",
   "language": "python",
   "name": "python3"
  },
  "language_info": {
   "codemirror_mode": {
    "name": "ipython",
    "version": 3
   },
   "file_extension": ".py",
   "mimetype": "text/x-python",
   "name": "python",
   "nbconvert_exporter": "python",
   "pygments_lexer": "ipython3",
   "version": "3.10.12"
  }
 },
 "nbformat": 4,
 "nbformat_minor": 5
}
