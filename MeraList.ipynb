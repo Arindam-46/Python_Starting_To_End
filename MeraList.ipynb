{
 "cells": [
  {
   "cell_type": "code",
   "execution_count": 1,
   "id": "332ca830-e8ca-4935-b477-782befffb60e",
   "metadata": {},
   "outputs": [],
   "source": [
    "import ctypes"
   ]
  },
  {
   "cell_type": "code",
   "execution_count": 2,
   "id": "ea390555-05f7-437b-8d7d-20a50b3721f8",
   "metadata": {},
   "outputs": [],
   "source": [
    "class MeraList:\n",
    "    def __init__(self):\n",
    "        self.size = 1\n",
    "        self.n = 0\n",
    "        # Creates a Ctype array with size = self.size\n",
    "        self.A = self.make_array(self.size)\n",
    "    def make_array(self,capacity):\n",
    "        #creates ctype static referancial array of size capacity\n",
    "        return (capacity*ctypes.py_object)()\n",
    "    def __len__(self):\n",
    "        return self.n\n",
    "    def append(self,item):\n",
    "        if self.n == self.size:\n",
    "            #resize\n",
    "            self._resize(self.size*2)\n",
    "        #insert item\n",
    "        self.A[self.n]= item\n",
    "        self.n = self.n+1\n",
    "    def _resize(self,new_capacity):\n",
    "        self.B = self.make_array(new_capacity)\n",
    "        for i in range(self.size):\n",
    "            self.B[i]=self.A[i]\n",
    "        self.A = self.B\n",
    "        self.size = new_capacity\n",
    "    def __str__(self):\n",
    "        result = ''\n",
    "        for i in range (self.n):\n",
    "            result = result + str(self.A[i])+','\n",
    "        return '['+result[:-1]+']'\n",
    "    def __getitem__(self,index):\n",
    "        if 0<=index<self.n:\n",
    "            return self.A[index]\n",
    "        return 'Index Error = Index out of range'\n",
    "    def pop(self):\n",
    "        if self.n==0:\n",
    "            return 'Empty List'\n",
    "        print(self.A[self.n-1])\n",
    "        self.n= self.n-1\n",
    "    def clear(self):\n",
    "        self.size = 1\n",
    "        self.n = 0\n",
    "    def find(self,item):\n",
    "        for i in range(self.n):\n",
    "            if self.A[i]==item:\n",
    "                return i\n",
    "        return 'Item not in List'\n",
    "    def insert(self,pos,item):\n",
    "        if self.n==self.size:\n",
    "            self._resize(self.size*2)\n",
    "        for i in range(self.n,pos,-1):\n",
    "            self.A[i]=self.A[i-1]\n",
    "        self.A[pos]=item\n",
    "    def __delitem__(self,pos):\n",
    "        if pos>self.n-1:\n",
    "            return 'Index Invalid'\n",
    "        for i in range(pos,self.n-1):\n",
    "            self.A[i]=self.A[i+1]\n",
    "        self.n = self.n-1\n",
    "    def remove(self,item):\n",
    "        pos = self.find(item)\n",
    "        if type(pos)==int :\n",
    "            #delete\n",
    "            self.__delitem__(pos)\n",
    "        else:\n",
    "            return pos\n",
    "            \n",
    "        \n",
    "        "
   ]
  },
  {
   "cell_type": "code",
   "execution_count": 3,
   "id": "1f621f43-af22-4790-a84c-3709d12d4a16",
   "metadata": {},
   "outputs": [],
   "source": [
    "L = MeraList()"
   ]
  },
  {
   "cell_type": "code",
   "execution_count": 4,
   "id": "ef479dc6-90a5-4dcc-adbb-d378061d76c2",
   "metadata": {},
   "outputs": [
    {
     "data": {
      "text/plain": [
       "__main__.MeraList"
      ]
     },
     "execution_count": 4,
     "metadata": {},
     "output_type": "execute_result"
    }
   ],
   "source": [
    "type(L)"
   ]
  },
  {
   "cell_type": "code",
   "execution_count": 5,
   "id": "67db59e9-b8cf-4942-a5c6-1fff8c70cbe8",
   "metadata": {},
   "outputs": [
    {
     "name": "stdout",
     "output_type": "stream",
     "text": [
      "[]\n"
     ]
    }
   ],
   "source": [
    "print(L)"
   ]
  },
  {
   "cell_type": "code",
   "execution_count": 6,
   "id": "944d7bd0-8ce1-42ae-a3b1-01b3ddd911f5",
   "metadata": {},
   "outputs": [
    {
     "data": {
      "text/plain": [
       "0"
      ]
     },
     "execution_count": 6,
     "metadata": {},
     "output_type": "execute_result"
    }
   ],
   "source": [
    "len(L)"
   ]
  },
  {
   "cell_type": "code",
   "execution_count": 7,
   "id": "88648a98-1851-4606-9a6d-d6f0d423510a",
   "metadata": {},
   "outputs": [],
   "source": [
    "L.append('hello')\n",
    "L.append(3.4)\n",
    "L.append(True)\n",
    "L.append(100)"
   ]
  },
  {
   "cell_type": "code",
   "execution_count": 8,
   "id": "a2ee72dd-1ad9-4d59-9fb7-dd64baed8053",
   "metadata": {},
   "outputs": [
    {
     "data": {
      "text/plain": [
       "4"
      ]
     },
     "execution_count": 8,
     "metadata": {},
     "output_type": "execute_result"
    }
   ],
   "source": [
    "len(L)"
   ]
  },
  {
   "cell_type": "code",
   "execution_count": 9,
   "id": "e5883006-d05c-42e2-ab74-89fb5b9123c0",
   "metadata": {},
   "outputs": [
    {
     "data": {
      "text/plain": [
       "'Item not in List'"
      ]
     },
     "execution_count": 9,
     "metadata": {},
     "output_type": "execute_result"
    }
   ],
   "source": [
    "L.find(300)"
   ]
  },
  {
   "cell_type": "code",
   "execution_count": 10,
   "id": "948be3f6-0fe7-4d13-8624-ec891d5c69b8",
   "metadata": {},
   "outputs": [
    {
     "name": "stdout",
     "output_type": "stream",
     "text": [
      "[hello,3.4,True,100]\n"
     ]
    }
   ],
   "source": [
    "print(L)"
   ]
  },
  {
   "cell_type": "code",
   "execution_count": 11,
   "id": "7d98706e-13a6-47cd-a204-a0fae06aead5",
   "metadata": {},
   "outputs": [],
   "source": [
    "L.append(46)"
   ]
  },
  {
   "cell_type": "code",
   "execution_count": 12,
   "id": "0a5ce6d1-daf9-4f2c-817d-dcc27a1ed8f8",
   "metadata": {},
   "outputs": [
    {
     "name": "stdout",
     "output_type": "stream",
     "text": [
      "[hello,3.4,True,100,46]\n"
     ]
    }
   ],
   "source": [
    "print(L)"
   ]
  },
  {
   "cell_type": "code",
   "execution_count": 13,
   "id": "312e90e3-2222-4c98-83c7-a4161a7cba06",
   "metadata": {},
   "outputs": [],
   "source": [
    "L.insert(3,'world')"
   ]
  },
  {
   "cell_type": "code",
   "execution_count": 14,
   "id": "919421c6-fc20-446e-907b-436396e0f7a4",
   "metadata": {},
   "outputs": [
    {
     "data": {
      "text/plain": [
       "'world'"
      ]
     },
     "execution_count": 14,
     "metadata": {},
     "output_type": "execute_result"
    }
   ],
   "source": [
    "L[3]"
   ]
  },
  {
   "cell_type": "code",
   "execution_count": 15,
   "id": "fbb6783d-e0fa-44f4-9af7-83965cecb830",
   "metadata": {},
   "outputs": [
    {
     "name": "stdout",
     "output_type": "stream",
     "text": [
      "[hello,3.4,True,world,100]\n"
     ]
    }
   ],
   "source": [
    "print(L)"
   ]
  },
  {
   "cell_type": "code",
   "execution_count": 16,
   "id": "8da3d461-6374-46d1-a685-c7c02e0066d3",
   "metadata": {},
   "outputs": [],
   "source": [
    "L.remove('world')"
   ]
  },
  {
   "cell_type": "code",
   "execution_count": 17,
   "id": "b16f92a0-7e70-4058-8962-8d7078e7aa48",
   "metadata": {},
   "outputs": [
    {
     "name": "stdout",
     "output_type": "stream",
     "text": [
      "[hello,3.4,True,100]\n"
     ]
    }
   ],
   "source": [
    "print(L)"
   ]
  },
  {
   "cell_type": "code",
   "execution_count": 22,
   "id": "e8d63dc0-cb11-4ffc-9c83-e868d58883a7",
   "metadata": {},
   "outputs": [
    {
     "data": {
      "text/plain": [
       "'Item not in List'"
      ]
     },
     "execution_count": 22,
     "metadata": {},
     "output_type": "execute_result"
    }
   ],
   "source": [
    "L.remove(6)"
   ]
  },
  {
   "cell_type": "code",
   "execution_count": 21,
   "id": "86441869-d0ef-43af-9bd1-b387d1bd9e3c",
   "metadata": {},
   "outputs": [
    {
     "name": "stdout",
     "output_type": "stream",
     "text": [
      "[hello,3.4]\n"
     ]
    }
   ],
   "source": [
    "print(L)"
   ]
  },
  {
   "cell_type": "code",
   "execution_count": null,
   "id": "f207440e-662d-4288-861e-c9213d6a799a",
   "metadata": {},
   "outputs": [],
   "source": []
  }
 ],
 "metadata": {
  "kernelspec": {
   "display_name": "Python 3 (ipykernel)",
   "language": "python",
   "name": "python3"
  },
  "language_info": {
   "codemirror_mode": {
    "name": "ipython",
    "version": 3
   },
   "file_extension": ".py",
   "mimetype": "text/x-python",
   "name": "python",
   "nbconvert_exporter": "python",
   "pygments_lexer": "ipython3",
   "version": "3.10.12"
  }
 },
 "nbformat": 4,
 "nbformat_minor": 5
}
